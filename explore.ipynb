{
 "cells": [
  {
   "cell_type": "code",
   "execution_count": 1,
   "id": "9161d090-3f1a-4b5a-8be0-fca396c97a71",
   "metadata": {},
   "outputs": [
    {
     "name": "stderr",
     "output_type": "stream",
     "text": [
      "WARNING: An illegal reflective access operation has occurred\n",
      "WARNING: Illegal reflective access by org.apache.spark.unsafe.Platform (file:/usr/local/anaconda3/lib/python3.9/site-packages/pyspark/jars/spark-unsafe_2.12-3.2.1.jar) to constructor java.nio.DirectByteBuffer(long,int)\n",
      "WARNING: Please consider reporting this to the maintainers of org.apache.spark.unsafe.Platform\n",
      "WARNING: Use --illegal-access=warn to enable warnings of further illegal reflective access operations\n",
      "WARNING: All illegal access operations will be denied in a future release\n",
      "Using Spark's default log4j profile: org/apache/spark/log4j-defaults.properties\n",
      "Setting default log level to \"WARN\".\n",
      "To adjust logging level use sc.setLogLevel(newLevel). For SparkR, use setLogLevel(newLevel).\n",
      "22/05/23 10:24:25 WARN NativeCodeLoader: Unable to load native-hadoop library for your platform... using builtin-java classes where applicable\n"
     ]
    }
   ],
   "source": [
    "import pandas as pd\n",
    "import matplotlib.pyplot as plt\n",
    "import pyspark\n",
    "import pyspark.sql.functions as F\n",
    "\n",
    "spark = pyspark.sql.SparkSession.builder.getOrCreate()"
   ]
  },
  {
   "cell_type": "markdown",
   "id": "72d0654b-fe48-4ef6-81d3-990d60463c17",
   "metadata": {},
   "source": [
    "# Exploration Exercises"
   ]
  },
  {
   "cell_type": "code",
   "execution_count": 48,
   "id": "64f92f61-70f4-4b2c-baa7-e328b2e840ed",
   "metadata": {},
   "outputs": [
    {
     "name": "stderr",
     "output_type": "stream",
     "text": [
      "                                                                                \r"
     ]
    }
   ],
   "source": [
    "# Read all three .csv files into dataframes\n",
    "\n",
    "case = spark.read.csv(\"case.csv\", sep=\",\", header=True, inferSchema=True)\n",
    "department = spark.read.csv(\"dept.csv\", sep=\",\", header=True, inferSchema=True)\n",
    "source = spark.read.csv(\"source.csv\", sep=\",\", header=True, inferSchema=True)\n",
    "\n",
    "fmt = \"M/d/yy H:mm\"\n",
    "case = (\n",
    "    case.withColumn(\"case_opened_date\", F.to_timestamp(\"case_opened_date\", fmt))\n",
    "    .withColumn(\"case_closed_date\", F.to_timestamp(\"case_closed_date\", fmt))\n",
    "    .withColumn(\"SLA_due_date\", F.to_timestamp(\"SLA_due_date\", fmt))\n",
    ")"
   ]
  },
  {
   "cell_type": "code",
   "execution_count": 49,
   "id": "4bf38bed-3d8d-4fe8-9b95-ec112ec597eb",
   "metadata": {},
   "outputs": [
    {
     "name": "stdout",
     "output_type": "stream",
     "text": [
      "root\n",
      " |-- source_id: string (nullable = true)\n",
      " |-- dept_division: string (nullable = true)\n",
      " |-- case_id: integer (nullable = true)\n",
      " |-- case_opened_date: timestamp (nullable = true)\n",
      " |-- case_closed_date: timestamp (nullable = true)\n",
      " |-- SLA_due_date: timestamp (nullable = true)\n",
      " |-- case_late: string (nullable = true)\n",
      " |-- num_days_late: double (nullable = true)\n",
      " |-- case_closed: string (nullable = true)\n",
      " |-- service_request_type: string (nullable = true)\n",
      " |-- SLA_days: double (nullable = true)\n",
      " |-- case_status: string (nullable = true)\n",
      " |-- request_address: string (nullable = true)\n",
      " |-- council_district: integer (nullable = true)\n",
      " |-- dept_name: string (nullable = true)\n",
      " |-- standardized_dept_name: string (nullable = true)\n",
      " |-- dept_subject_to_SLA: string (nullable = true)\n",
      " |-- source_username: string (nullable = true)\n",
      "\n"
     ]
    }
   ],
   "source": [
    "df = (\n",
    "    case.join(department, 'dept_division')\n",
    "    .join(source, 'source_id')\n",
    "    .drop(department.dept_division)\n",
    "    .drop(source.source_id)\n",
    ")\n",
    "df.printSchema()"
   ]
  },
  {
   "cell_type": "markdown",
   "id": "f327e526-fdfe-43e4-b1f7-28ab817b9371",
   "metadata": {},
   "source": [
    "## 1\n",
    "\n",
    "How many different cases are there, by department?"
   ]
  },
  {
   "cell_type": "code",
   "execution_count": 10,
   "id": "0dc6195a-5947-44d6-a8f2-1fe70f46a0b9",
   "metadata": {},
   "outputs": [
    {
     "name": "stderr",
     "output_type": "stream",
     "text": [
      "[Stage 13:>                                                         (0 + 4) / 4]\r"
     ]
    },
    {
     "name": "stdout",
     "output_type": "stream",
     "text": [
      "+-------------------------+------+\n",
      "|dept_name                |count |\n",
      "+-------------------------+------+\n",
      "|Animal Care Services     |119362|\n",
      "|null                     |198   |\n",
      "|Solid Waste Management   |286287|\n",
      "|Development Services     |1397  |\n",
      "|Trans & Cap Improvements |97841 |\n",
      "|Customer Service         |2889  |\n",
      "|Metro Health             |5313  |\n",
      "|Parks and Recreation     |19964 |\n",
      "|Code Enforcement Services|321984|\n",
      "|City Council             |34    |\n",
      "+-------------------------+------+\n",
      "\n"
     ]
    },
    {
     "name": "stderr",
     "output_type": "stream",
     "text": [
      "                                                                                \r"
     ]
    }
   ],
   "source": [
    "# Let's do this one with spark only.\n",
    "\n",
    "df.groupBy('dept_name').count().show(truncate = False)"
   ]
  },
  {
   "cell_type": "markdown",
   "id": "ac1212f1-e2b3-47e7-8e9d-4b63aec98ed8",
   "metadata": {},
   "source": [
    "## 2\n",
    "\n",
    "Does the percentage of cases that are late vary by department?"
   ]
  },
  {
   "cell_type": "code",
   "execution_count": 100,
   "id": "9ff03a9e-a059-4855-8442-ef0c85ac831f",
   "metadata": {},
   "outputs": [
    {
     "name": "stderr",
     "output_type": "stream",
     "text": [
      "[Stage 373:>                                                        (0 + 4) / 4]\r"
     ]
    },
    {
     "name": "stdout",
     "output_type": "stream",
     "text": [
      "+-------------------------+-------------------+\n",
      "|dept_name                |percentage         |\n",
      "+-------------------------+-------------------+\n",
      "|City Council             |0.0                |\n",
      "|Trans & Cap Improvements |0.05651005202318047|\n",
      "|Code Enforcement Services|0.07909399224806202|\n",
      "|Solid Waste Management   |0.11781533915266848|\n",
      "|Metro Health             |0.16073781291172595|\n",
      "|Parks and Recreation     |0.1908435183329994 |\n",
      "|Animal Care Services     |0.19898292588931152|\n",
      "|Development Services     |0.6012884753042234 |\n",
      "|null                     |0.6666666666666666 |\n",
      "|Customer Service         |0.7043959847698166 |\n",
      "+-------------------------+-------------------+\n",
      "\n"
     ]
    },
    {
     "name": "stderr",
     "output_type": "stream",
     "text": [
      "                                                                                \r"
     ]
    }
   ],
   "source": [
    "# Let's do this one with spark only.\n",
    "\n",
    "(\n",
    "    df.withColumn(\n",
    "        'case_late',\n",
    "        F.when(F.col('case_late') == 'YES', 1).otherwise(0)\n",
    "    )\n",
    "    .groupBy('dept_name')\n",
    "    .agg(F.mean('case_late').alias('percentage'))\n",
    "    .orderBy('percentage')\n",
    "    .show(truncate = False)\n",
    ")"
   ]
  },
  {
   "cell_type": "markdown",
   "id": "3ac9ad73-ece1-47cc-a8f7-c69029768fd6",
   "metadata": {},
   "source": [
    "## 3\n",
    "\n",
    "On average, how late are the late cases by department?"
   ]
  },
  {
   "cell_type": "code",
   "execution_count": 18,
   "id": "55670c49-dfd1-4f7c-a15c-04cc26d6815c",
   "metadata": {},
   "outputs": [
    {
     "name": "stderr",
     "output_type": "stream",
     "text": [
      "                                                                                \r"
     ]
    },
    {
     "name": "stdout",
     "output_type": "stream",
     "text": [
      "+-------------------------+------------------+\n",
      "|dept_name                |avg(num_days_late)|\n",
      "+-------------------------+------------------+\n",
      "|Animal Care Services     |23.44672963473822 |\n",
      "|null                     |210.89201994318182|\n",
      "|Solid Waste Management   |7.147172789557422 |\n",
      "|Development Services     |67.22248485687264 |\n",
      "|Trans & Cap Improvements |10.66295045507867 |\n",
      "|Customer Service         |88.18248182589824 |\n",
      "|Metro Health             |6.494699602827868 |\n",
      "|Parks and Recreation     |22.427807192724128|\n",
      "|Code Enforcement Services|48.085502375106735|\n",
      "+-------------------------+------------------+\n",
      "\n"
     ]
    }
   ],
   "source": [
    "# Let's do this one with spark only\n",
    "\n",
    "(\n",
    "    df.where(F.col('case_late') == 'YES')\n",
    "    .groupBy('dept_name')\n",
    "    .agg(F.mean(df.num_days_late))\n",
    "    .show(truncate = False)\n",
    ")"
   ]
  },
  {
   "cell_type": "markdown",
   "id": "0aa1d6da-0b57-4f25-836e-9ad7d965a0f5",
   "metadata": {},
   "source": [
    "## 4\n",
    "\n",
    "What is the service type that is the most late? Just for Parks & Rec?"
   ]
  },
  {
   "cell_type": "code",
   "execution_count": 28,
   "id": "d966a6f2-5e70-4d0d-be18-66b809b6fb6b",
   "metadata": {},
   "outputs": [
    {
     "name": "stderr",
     "output_type": "stream",
     "text": [
      "                                                                                \r"
     ]
    },
    {
     "data": {
      "image/png": "[encoded data removed]",
      "text/plain": [
       "<Figure size 432x288 with 1 Axes>"
      ]
     },
     "metadata": {
      "needs_background": "light"
     },
     "output_type": "display_data"
    }
   ],
   "source": [
    "# Let's do this one with pandas and spark.\n",
    "# We'll define most late as most late in terms of average days late, considering only late cases.\n",
    "\n",
    "(\n",
    "    df.where(F.col('case_late') == 'YES')\n",
    "    .groupBy('service_request_type')\n",
    "    .agg(F.mean(df.num_days_late).alias('avg_days_late'))\n",
    "    .orderBy('avg_days_late', ascending = False)\n",
    "    .toPandas()\n",
    "    .head(20)\n",
    "    .set_index('service_request_type')\n",
    "    .plot.barh()\n",
    ");"
   ]
  },
  {
   "cell_type": "code",
   "execution_count": 29,
   "id": "88ea4805-2d65-462d-97d9-79ef3579345e",
   "metadata": {},
   "outputs": [
    {
     "name": "stderr",
     "output_type": "stream",
     "text": [
      "                                                                                \r"
     ]
    },
    {
     "data": {
      "image/png": "[encoded data removed]",
      "text/plain": [
       "<Figure size 432x288 with 1 Axes>"
      ]
     },
     "metadata": {
      "needs_background": "light"
     },
     "output_type": "display_data"
    }
   ],
   "source": [
    "# Just for Parks & Rec\n",
    "\n",
    "(\n",
    "    df.where((F.col('case_late') == 'YES') & (F.col('dept_name') == 'Parks and Recreation'))\n",
    "    .groupBy('service_request_type')\n",
    "    .agg(F.mean(df.num_days_late).alias('avg_days_late'))\n",
    "    .orderBy('avg_days_late', ascending = False)\n",
    "    .toPandas()\n",
    "    .head(20)\n",
    "    .set_index('service_request_type')\n",
    "    .plot.barh()\n",
    ");"
   ]
  },
  {
   "cell_type": "markdown",
   "id": "455c4c00-0bb1-49af-91b4-0730b8b4a5f2",
   "metadata": {},
   "source": [
    "## 5\n",
    "\n",
    "For the DSD/Code Enforcement department, what are the most common service request types? Look at other departments too."
   ]
  },
  {
   "cell_type": "code",
   "execution_count": 34,
   "id": "8bd62e22-74e6-4d41-8175-cf0f357eed02",
   "metadata": {},
   "outputs": [
    {
     "name": "stderr",
     "output_type": "stream",
     "text": [
      "                                                                                \r"
     ]
    },
    {
     "data": {
      "text/plain": [
       "<AxesSubplot:ylabel='service_request_type'>"
      ]
     },
     "execution_count": 34,
     "metadata": {},
     "output_type": "execute_result"
    },
    {
     "data": {
      "image/png": "[encoded data removed]",
      "text/plain": [
       "<Figure size 432x288 with 1 Axes>"
      ]
     },
     "metadata": {
      "needs_background": "light"
     },
     "output_type": "display_data"
    }
   ],
   "source": [
    "# Let's do this one with pandas and spark.\n",
    "\n",
    "# DSD/Code Enforcement: department name, Development Services\n",
    "(\n",
    "    df.where(F.col('dept_name') == 'Development Services')\n",
    "    .groupBy('service_request_type')\n",
    "    .count()\n",
    "    .orderBy('count', ascending = False)\n",
    "    .toPandas()\n",
    "    .set_index('service_request_type')\n",
    "    .plot.barh()\n",
    ")"
   ]
  },
  {
   "cell_type": "code",
   "execution_count": 35,
   "id": "2d2dc50a-62cd-4015-a59b-34c788bb20ed",
   "metadata": {},
   "outputs": [
    {
     "name": "stderr",
     "output_type": "stream",
     "text": [
      "                                                                                \r"
     ]
    },
    {
     "data": {
      "text/plain": [
       "<AxesSubplot:ylabel='service_request_type'>"
      ]
     },
     "execution_count": 35,
     "metadata": {},
     "output_type": "execute_result"
    },
    {
     "data": {
      "image/png": "[encoded data removed]",
      "text/plain": [
       "<Figure size 432x288 with 1 Axes>"
      ]
     },
     "metadata": {
      "needs_background": "light"
     },
     "output_type": "display_data"
    }
   ],
   "source": [
    "# Metro Health\n",
    "\n",
    "(\n",
    "    df.where(F.col('dept_name') == 'Metro Health')\n",
    "    .groupBy('service_request_type')\n",
    "    .count()\n",
    "    .orderBy('count', ascending = False)\n",
    "    .toPandas()\n",
    "    .set_index('service_request_type')\n",
    "    .plot.barh()\n",
    ")"
   ]
  },
  {
   "cell_type": "markdown",
   "id": "ebc9a15b-98af-4cee-ae07-b86c4f794add",
   "metadata": {},
   "source": [
    "## 6\n",
    "\n",
    "Does whether or not its a weekend matter for when a case is opened/closed?"
   ]
  },
  {
   "cell_type": "code",
   "execution_count": 61,
   "id": "3d0e5309-08ae-4b3b-862a-849ce341b8b5",
   "metadata": {},
   "outputs": [
    {
     "name": "stderr",
     "output_type": "stream",
     "text": [
      "                                                                                \r"
     ]
    },
    {
     "data": {
      "text/html": [
       "<div>\n",
       "<style scoped>\n",
       "    .dataframe tbody tr th:only-of-type {\n",
       "        vertical-align: middle;\n",
       "    }\n",
       "\n",
       "    .dataframe tbody tr th {\n",
       "        vertical-align: top;\n",
       "    }\n",
       "\n",
       "    .dataframe thead th {\n",
       "        text-align: right;\n",
       "    }\n",
       "</style>\n",
       "<table border=\"1\" class=\"dataframe\">\n",
       "  <thead>\n",
       "    <tr style=\"text-align: right;\">\n",
       "      <th></th>\n",
       "      <th>cases_opened</th>\n",
       "    </tr>\n",
       "    <tr>\n",
       "      <th>day</th>\n",
       "      <th></th>\n",
       "    </tr>\n",
       "  </thead>\n",
       "  <tbody>\n",
       "    <tr>\n",
       "      <th>Fri</th>\n",
       "      <td>145242</td>\n",
       "    </tr>\n",
       "    <tr>\n",
       "      <th>Mon</th>\n",
       "      <td>155781</td>\n",
       "    </tr>\n",
       "    <tr>\n",
       "      <th>Sat</th>\n",
       "      <td>54593</td>\n",
       "    </tr>\n",
       "    <tr>\n",
       "      <th>Sun</th>\n",
       "      <td>29343</td>\n",
       "    </tr>\n",
       "    <tr>\n",
       "      <th>Thu</th>\n",
       "      <td>155919</td>\n",
       "    </tr>\n",
       "    <tr>\n",
       "      <th>Tue</th>\n",
       "      <td>164608</td>\n",
       "    </tr>\n",
       "    <tr>\n",
       "      <th>Wed</th>\n",
       "      <td>149783</td>\n",
       "    </tr>\n",
       "  </tbody>\n",
       "</table>\n",
       "</div>"
      ],
      "text/plain": [
       "     cases_opened\n",
       "day              \n",
       "Fri        145242\n",
       "Mon        155781\n",
       "Sat         54593\n",
       "Sun         29343\n",
       "Thu        155919\n",
       "Tue        164608\n",
       "Wed        149783"
      ]
     },
     "execution_count": 61,
     "metadata": {},
     "output_type": "execute_result"
    }
   ],
   "source": [
    "# Let's do this one with pandas and spark.\n",
    "\n",
    "# Get the number of cases opened on each day of the week.\n",
    "cases_opened_by_day = (\n",
    "    df.withColumn('day', F.date_format('case_opened_date', 'E'))\n",
    "    .groupBy(F.col('day'))\n",
    "    .count()\n",
    "    .na.drop()\n",
    "    .sort('day')\n",
    "    .toPandas()\n",
    "    .set_index('day')\n",
    ")\n",
    "\n",
    "cases_opened_by_day.columns = ['cases_opened']\n",
    "cases_opened_by_day"
   ]
  },
  {
   "cell_type": "code",
   "execution_count": 62,
   "id": "c68b7855-d292-4710-84f6-33ab32320be4",
   "metadata": {},
   "outputs": [
    {
     "name": "stderr",
     "output_type": "stream",
     "text": [
      "                                                                                \r"
     ]
    },
    {
     "data": {
      "text/html": [
       "<div>\n",
       "<style scoped>\n",
       "    .dataframe tbody tr th:only-of-type {\n",
       "        vertical-align: middle;\n",
       "    }\n",
       "\n",
       "    .dataframe tbody tr th {\n",
       "        vertical-align: top;\n",
       "    }\n",
       "\n",
       "    .dataframe thead th {\n",
       "        text-align: right;\n",
       "    }\n",
       "</style>\n",
       "<table border=\"1\" class=\"dataframe\">\n",
       "  <thead>\n",
       "    <tr style=\"text-align: right;\">\n",
       "      <th></th>\n",
       "      <th>cases_closed</th>\n",
       "    </tr>\n",
       "    <tr>\n",
       "      <th>day</th>\n",
       "      <th></th>\n",
       "    </tr>\n",
       "  </thead>\n",
       "  <tbody>\n",
       "    <tr>\n",
       "      <th>Fri</th>\n",
       "      <td>131026</td>\n",
       "    </tr>\n",
       "    <tr>\n",
       "      <th>Mon</th>\n",
       "      <td>136994</td>\n",
       "    </tr>\n",
       "    <tr>\n",
       "      <th>Sat</th>\n",
       "      <td>62327</td>\n",
       "    </tr>\n",
       "    <tr>\n",
       "      <th>Sun</th>\n",
       "      <td>27276</td>\n",
       "    </tr>\n",
       "    <tr>\n",
       "      <th>Thu</th>\n",
       "      <td>148120</td>\n",
       "    </tr>\n",
       "    <tr>\n",
       "      <th>Tue</th>\n",
       "      <td>157360</td>\n",
       "    </tr>\n",
       "    <tr>\n",
       "      <th>Wed</th>\n",
       "      <td>173833</td>\n",
       "    </tr>\n",
       "  </tbody>\n",
       "</table>\n",
       "</div>"
      ],
      "text/plain": [
       "     cases_closed\n",
       "day              \n",
       "Fri        131026\n",
       "Mon        136994\n",
       "Sat         62327\n",
       "Sun         27276\n",
       "Thu        148120\n",
       "Tue        157360\n",
       "Wed        173833"
      ]
     },
     "execution_count": 62,
     "metadata": {},
     "output_type": "execute_result"
    }
   ],
   "source": [
    "# Get the number of cases closed on each day of the week.\n",
    "cases_closed_by_day = (\n",
    "    df.withColumn('day', F.date_format('case_closed_date', 'E'))\n",
    "    .groupBy(F.col('day'))\n",
    "    .count()\n",
    "    .na.drop()\n",
    "    .sort('day')\n",
    "    .toPandas()\n",
    "    .set_index('day')\n",
    ")\n",
    "\n",
    "cases_closed_by_day.columns = ['cases_closed']\n",
    "cases_closed_by_day"
   ]
  },
  {
   "cell_type": "code",
   "execution_count": 69,
   "id": "8c7f254d-8c47-4a35-ad0c-4f4aac42593f",
   "metadata": {},
   "outputs": [
    {
     "data": {
      "text/html": [
       "<div>\n",
       "<style scoped>\n",
       "    .dataframe tbody tr th:only-of-type {\n",
       "        vertical-align: middle;\n",
       "    }\n",
       "\n",
       "    .dataframe tbody tr th {\n",
       "        vertical-align: top;\n",
       "    }\n",
       "\n",
       "    .dataframe thead th {\n",
       "        text-align: right;\n",
       "    }\n",
       "</style>\n",
       "<table border=\"1\" class=\"dataframe\">\n",
       "  <thead>\n",
       "    <tr style=\"text-align: right;\">\n",
       "      <th></th>\n",
       "      <th>cases_opened</th>\n",
       "      <th>cases_closed</th>\n",
       "    </tr>\n",
       "    <tr>\n",
       "      <th>day</th>\n",
       "      <th></th>\n",
       "      <th></th>\n",
       "    </tr>\n",
       "  </thead>\n",
       "  <tbody>\n",
       "    <tr>\n",
       "      <th>Sun</th>\n",
       "      <td>29343</td>\n",
       "      <td>27276</td>\n",
       "    </tr>\n",
       "    <tr>\n",
       "      <th>Mon</th>\n",
       "      <td>155781</td>\n",
       "      <td>136994</td>\n",
       "    </tr>\n",
       "    <tr>\n",
       "      <th>Tue</th>\n",
       "      <td>164608</td>\n",
       "      <td>157360</td>\n",
       "    </tr>\n",
       "    <tr>\n",
       "      <th>Wed</th>\n",
       "      <td>149783</td>\n",
       "      <td>173833</td>\n",
       "    </tr>\n",
       "    <tr>\n",
       "      <th>Thu</th>\n",
       "      <td>155919</td>\n",
       "      <td>148120</td>\n",
       "    </tr>\n",
       "    <tr>\n",
       "      <th>Fri</th>\n",
       "      <td>145242</td>\n",
       "      <td>131026</td>\n",
       "    </tr>\n",
       "    <tr>\n",
       "      <th>Sat</th>\n",
       "      <td>54593</td>\n",
       "      <td>62327</td>\n",
       "    </tr>\n",
       "  </tbody>\n",
       "</table>\n",
       "</div>"
      ],
      "text/plain": [
       "     cases_opened  cases_closed\n",
       "day                            \n",
       "Sun         29343         27276\n",
       "Mon        155781        136994\n",
       "Tue        164608        157360\n",
       "Wed        149783        173833\n",
       "Thu        155919        148120\n",
       "Fri        145242        131026\n",
       "Sat         54593         62327"
      ]
     },
     "execution_count": 69,
     "metadata": {},
     "output_type": "execute_result"
    }
   ],
   "source": [
    "# Combine the cases opened and cases closed dataframes.\n",
    "cases_by_day = pd.concat([cases_opened_by_day, cases_closed_by_day], axis = 1)\n",
    "cases_by_day = cases_by_day.reindex(['Sun', 'Mon', 'Tue', 'Wed', 'Thu', 'Fri', 'Sat'])\n",
    "cases_by_day"
   ]
  },
  {
   "cell_type": "code",
   "execution_count": 71,
   "id": "4e602f53-eed5-4bd7-bb22-0beacc4f489a",
   "metadata": {},
   "outputs": [
    {
     "data": {
      "image/png": "[encoded data removed]",
      "text/plain": [
       "<Figure size 432x288 with 1 Axes>"
      ]
     },
     "metadata": {
      "needs_background": "light"
     },
     "output_type": "display_data"
    }
   ],
   "source": [
    "cases_by_day.plot.bar()\n",
    "plt.xticks(rotation = 0);"
   ]
  },
  {
   "cell_type": "markdown",
   "id": "a681553e-0269-4376-a5e9-fb14d876327e",
   "metadata": {},
   "source": [
    "## 7\n",
    "\n",
    "On average, how many cases are opened a day for the Customer Service department?"
   ]
  },
  {
   "cell_type": "code",
   "execution_count": 76,
   "id": "284da068-de47-4297-b3d4-3bbf7018bfe1",
   "metadata": {},
   "outputs": [
    {
     "name": "stderr",
     "output_type": "stream",
     "text": [
      "                                                                                \r"
     ]
    },
    {
     "data": {
      "text/plain": [
       "(85495, 18)"
      ]
     },
     "execution_count": 76,
     "metadata": {},
     "output_type": "execute_result"
    }
   ],
   "source": [
    "# Let's do this one with a random sample.\n",
    "\n",
    "sample = df.sample(fraction = 0.1, seed = 24).toPandas()\n",
    "sample.shape"
   ]
  },
  {
   "cell_type": "code",
   "execution_count": 79,
   "id": "22f9567b-d3c9-4b68-a91d-74009c8015f2",
   "metadata": {},
   "outputs": [
    {
     "data": {
      "text/html": [
       "<div>\n",
       "<style scoped>\n",
       "    .dataframe tbody tr th:only-of-type {\n",
       "        vertical-align: middle;\n",
       "    }\n",
       "\n",
       "    .dataframe tbody tr th {\n",
       "        vertical-align: top;\n",
       "    }\n",
       "\n",
       "    .dataframe thead th {\n",
       "        text-align: right;\n",
       "    }\n",
       "</style>\n",
       "<table border=\"1\" class=\"dataframe\">\n",
       "  <thead>\n",
       "    <tr style=\"text-align: right;\">\n",
       "      <th></th>\n",
       "      <th>source_id</th>\n",
       "      <th>dept_division</th>\n",
       "      <th>case_id</th>\n",
       "      <th>case_closed_date</th>\n",
       "      <th>SLA_due_date</th>\n",
       "      <th>case_late</th>\n",
       "      <th>num_days_late</th>\n",
       "      <th>case_closed</th>\n",
       "      <th>service_request_type</th>\n",
       "      <th>SLA_days</th>\n",
       "      <th>case_status</th>\n",
       "      <th>request_address</th>\n",
       "      <th>council_district</th>\n",
       "      <th>dept_name</th>\n",
       "      <th>standardized_dept_name</th>\n",
       "      <th>dept_subject_to_SLA</th>\n",
       "      <th>source_username</th>\n",
       "    </tr>\n",
       "    <tr>\n",
       "      <th>case_opened_date</th>\n",
       "      <th></th>\n",
       "      <th></th>\n",
       "      <th></th>\n",
       "      <th></th>\n",
       "      <th></th>\n",
       "      <th></th>\n",
       "      <th></th>\n",
       "      <th></th>\n",
       "      <th></th>\n",
       "      <th></th>\n",
       "      <th></th>\n",
       "      <th></th>\n",
       "      <th></th>\n",
       "      <th></th>\n",
       "      <th></th>\n",
       "      <th></th>\n",
       "      <th></th>\n",
       "    </tr>\n",
       "  </thead>\n",
       "  <tbody>\n",
       "    <tr>\n",
       "      <th>2018-01-02 15:22:00</th>\n",
       "      <td>ns16326</td>\n",
       "      <td>311 Call Center</td>\n",
       "      <td>1014130342</td>\n",
       "      <td>NaT</td>\n",
       "      <td>2018-01-09 15:22:00</td>\n",
       "      <td>YES</td>\n",
       "      <td>211.359491</td>\n",
       "      <td>NO</td>\n",
       "      <td>Complaint</td>\n",
       "      <td>7.000000</td>\n",
       "      <td>Open</td>\n",
       "      <td>711  SMOKE TREE, San Antonio, 78227</td>\n",
       "      <td>6</td>\n",
       "      <td>Customer Service</td>\n",
       "      <td>Customer Service</td>\n",
       "      <td>YES</td>\n",
       "      <td>Norma K. Sotoodeh</td>\n",
       "    </tr>\n",
       "    <tr>\n",
       "      <th>2018-01-12 07:59:00</th>\n",
       "      <td>jw10936</td>\n",
       "      <td>311 Call Center</td>\n",
       "      <td>1014155066</td>\n",
       "      <td>2018-01-12 08:05:00</td>\n",
       "      <td>2018-01-24 08:30:00</td>\n",
       "      <td>NO</td>\n",
       "      <td>-12.017269</td>\n",
       "      <td>YES</td>\n",
       "      <td>Compliment</td>\n",
       "      <td>12.021146</td>\n",
       "      <td>Closed</td>\n",
       "      <td>200  LIVELY, San Antonio, 78213</td>\n",
       "      <td>1</td>\n",
       "      <td>Customer Service</td>\n",
       "      <td>Customer Service</td>\n",
       "      <td>YES</td>\n",
       "      <td>Jessica West</td>\n",
       "    </tr>\n",
       "    <tr>\n",
       "      <th>2018-01-17 16:37:00</th>\n",
       "      <td>139342</td>\n",
       "      <td>311 Call Center</td>\n",
       "      <td>1014169409</td>\n",
       "      <td>2018-01-19 10:01:00</td>\n",
       "      <td>2018-01-24 16:37:00</td>\n",
       "      <td>NO</td>\n",
       "      <td>-5.275023</td>\n",
       "      <td>YES</td>\n",
       "      <td>Complaint</td>\n",
       "      <td>7.000000</td>\n",
       "      <td>Closed</td>\n",
       "      <td>131  MONTICELLO CT, San Antonio, 78223</td>\n",
       "      <td>3</td>\n",
       "      <td>Customer Service</td>\n",
       "      <td>Customer Service</td>\n",
       "      <td>YES</td>\n",
       "      <td>Jessica Mendoza</td>\n",
       "    </tr>\n",
       "    <tr>\n",
       "      <th>2018-01-23 10:53:00</th>\n",
       "      <td>138810</td>\n",
       "      <td>311 Call Center</td>\n",
       "      <td>1014186374</td>\n",
       "      <td>NaT</td>\n",
       "      <td>2018-01-30 10:53:00</td>\n",
       "      <td>YES</td>\n",
       "      <td>190.546273</td>\n",
       "      <td>NO</td>\n",
       "      <td>Complaint</td>\n",
       "      <td>7.000000</td>\n",
       "      <td>Open</td>\n",
       "      <td>839  VERMONT, San Antonio, 78211</td>\n",
       "      <td>5</td>\n",
       "      <td>Customer Service</td>\n",
       "      <td>Customer Service</td>\n",
       "      <td>YES</td>\n",
       "      <td>Tawona Martin</td>\n",
       "    </tr>\n",
       "    <tr>\n",
       "      <th>2018-01-24 10:49:00</th>\n",
       "      <td>ld04403</td>\n",
       "      <td>311 Call Center</td>\n",
       "      <td>1014189724</td>\n",
       "      <td>2018-01-24 10:50:00</td>\n",
       "      <td>2018-02-02 10:49:00</td>\n",
       "      <td>NO</td>\n",
       "      <td>-8.998924</td>\n",
       "      <td>YES</td>\n",
       "      <td>Compliment</td>\n",
       "      <td>9.000000</td>\n",
       "      <td>Closed</td>\n",
       "      <td>3100  NEPTUNE, San Antonio, 78226</td>\n",
       "      <td>5</td>\n",
       "      <td>Customer Service</td>\n",
       "      <td>Customer Service</td>\n",
       "      <td>YES</td>\n",
       "      <td>Laura Davis</td>\n",
       "    </tr>\n",
       "  </tbody>\n",
       "</table>\n",
       "</div>"
      ],
      "text/plain": [
       "                    source_id    dept_division     case_id  \\\n",
       "case_opened_date                                             \n",
       "2018-01-02 15:22:00   ns16326  311 Call Center  1014130342   \n",
       "2018-01-12 07:59:00   jw10936  311 Call Center  1014155066   \n",
       "2018-01-17 16:37:00    139342  311 Call Center  1014169409   \n",
       "2018-01-23 10:53:00    138810  311 Call Center  1014186374   \n",
       "2018-01-24 10:49:00   ld04403  311 Call Center  1014189724   \n",
       "\n",
       "                       case_closed_date        SLA_due_date case_late  \\\n",
       "case_opened_date                                                        \n",
       "2018-01-02 15:22:00                 NaT 2018-01-09 15:22:00       YES   \n",
       "2018-01-12 07:59:00 2018-01-12 08:05:00 2018-01-24 08:30:00        NO   \n",
       "2018-01-17 16:37:00 2018-01-19 10:01:00 2018-01-24 16:37:00        NO   \n",
       "2018-01-23 10:53:00                 NaT 2018-01-30 10:53:00       YES   \n",
       "2018-01-24 10:49:00 2018-01-24 10:50:00 2018-02-02 10:49:00        NO   \n",
       "\n",
       "                     num_days_late case_closed service_request_type  \\\n",
       "case_opened_date                                                      \n",
       "2018-01-02 15:22:00     211.359491          NO            Complaint   \n",
       "2018-01-12 07:59:00     -12.017269         YES           Compliment   \n",
       "2018-01-17 16:37:00      -5.275023         YES            Complaint   \n",
       "2018-01-23 10:53:00     190.546273          NO            Complaint   \n",
       "2018-01-24 10:49:00      -8.998924         YES           Compliment   \n",
       "\n",
       "                      SLA_days case_status  \\\n",
       "case_opened_date                             \n",
       "2018-01-02 15:22:00   7.000000        Open   \n",
       "2018-01-12 07:59:00  12.021146      Closed   \n",
       "2018-01-17 16:37:00   7.000000      Closed   \n",
       "2018-01-23 10:53:00   7.000000        Open   \n",
       "2018-01-24 10:49:00   9.000000      Closed   \n",
       "\n",
       "                                            request_address  council_district  \\\n",
       "case_opened_date                                                                \n",
       "2018-01-02 15:22:00     711  SMOKE TREE, San Antonio, 78227                 6   \n",
       "2018-01-12 07:59:00         200  LIVELY, San Antonio, 78213                 1   \n",
       "2018-01-17 16:37:00  131  MONTICELLO CT, San Antonio, 78223                 3   \n",
       "2018-01-23 10:53:00        839  VERMONT, San Antonio, 78211                 5   \n",
       "2018-01-24 10:49:00       3100  NEPTUNE, San Antonio, 78226                 5   \n",
       "\n",
       "                            dept_name standardized_dept_name  \\\n",
       "case_opened_date                                               \n",
       "2018-01-02 15:22:00  Customer Service       Customer Service   \n",
       "2018-01-12 07:59:00  Customer Service       Customer Service   \n",
       "2018-01-17 16:37:00  Customer Service       Customer Service   \n",
       "2018-01-23 10:53:00  Customer Service       Customer Service   \n",
       "2018-01-24 10:49:00  Customer Service       Customer Service   \n",
       "\n",
       "                    dept_subject_to_SLA    source_username  \n",
       "case_opened_date                                            \n",
       "2018-01-02 15:22:00                 YES  Norma K. Sotoodeh  \n",
       "2018-01-12 07:59:00                 YES       Jessica West  \n",
       "2018-01-17 16:37:00                 YES    Jessica Mendoza  \n",
       "2018-01-23 10:53:00                 YES      Tawona Martin  \n",
       "2018-01-24 10:49:00                 YES        Laura Davis  "
      ]
     },
     "execution_count": 79,
     "metadata": {},
     "output_type": "execute_result"
    }
   ],
   "source": [
    "# Filter by the Customer Service department and set the case_opened_date column as the index.\n",
    "cust_service = sample[sample.dept_name == 'Customer Service'].set_index('case_opened_date')\n",
    "cust_service.head()"
   ]
  },
  {
   "cell_type": "code",
   "execution_count": 86,
   "id": "a543afa7-459c-446a-a68f-7070c0ee0323",
   "metadata": {},
   "outputs": [
    {
     "data": {
      "text/plain": [
       "0.48027444253859347"
      ]
     },
     "execution_count": 86,
     "metadata": {},
     "output_type": "execute_result"
    }
   ],
   "source": [
    "# Get the average cases open per day.\n",
    "cust_service.resample('d').case_id.count().mean()"
   ]
  },
  {
   "cell_type": "markdown",
   "id": "f4ecf7a4-cd7f-4724-8555-e248d22d6973",
   "metadata": {},
   "source": [
    "## 8\n",
    "\n",
    "Does the number of service requests for the solid waste department vary by day of the week?"
   ]
  },
  {
   "cell_type": "code",
   "execution_count": 96,
   "id": "bcc28d2b-cc2f-4e19-8d37-e2a521ceafb1",
   "metadata": {},
   "outputs": [
    {
     "data": {
      "image/png": "[encoded data removed]",
      "text/plain": [
       "<Figure size 432x288 with 1 Axes>"
      ]
     },
     "metadata": {
      "needs_background": "light"
     },
     "output_type": "display_data"
    }
   ],
   "source": [
    "# Let's use the sample again.\n",
    "\n",
    "# We'll specifically look at case_opened_date to determine if a service request was made.\n",
    "solid_waste = sample[sample.dept_name == 'Solid Waste Management'].set_index('case_opened_date')\n",
    "\n",
    "(\n",
    "    solid_waste.groupby(solid_waste.index.strftime('%a'))\n",
    "    .case_id\n",
    "    .count()\n",
    "    .reindex(['Sun', 'Mon', 'Tue', 'Wed', 'Thu', 'Fri', 'Sat'])\n",
    "    .plot.bar()\n",
    ")\n",
    "plt.xticks(rotation = 0);"
   ]
  }
 ],
 "metadata": {
  "kernelspec": {
   "display_name": "Python 3 (ipykernel)",
   "language": "python",
   "name": "python3"
  },
  "language_info": {
   "codemirror_mode": {
    "name": "ipython",
    "version": 3
   },
   "file_extension": ".py",
   "mimetype": "text/x-python",
   "name": "python",
   "nbconvert_exporter": "python",
   "pygments_lexer": "ipython3",
   "version": "3.9.7"
  }
 },
 "nbformat": 4,
 "nbformat_minor": 5
}
