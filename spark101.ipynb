{
 "cells": [
  {
   "cell_type": "markdown",
   "id": "f7ce539b-13ac-4862-99a5-8b369d9260e0",
   "metadata": {},
   "source": [
    "# Spark 101 Exercises"
   ]
  },
  {
   "cell_type": "code",
   "execution_count": 19,
   "id": "817ec6db-f352-4749-9d0d-aa8459864338",
   "metadata": {},
   "outputs": [],
   "source": [
    "import warnings\n",
    "warnings.filterwarnings(\"ignore\")\n",
    "\n",
    "import pandas as pd\n",
    "import pyspark\n",
    "import pyspark.sql.functions as F\n",
    "from pydataset import data\n",
    "\n",
    "spark = pyspark.sql.SparkSession.builder.getOrCreate()"
   ]
  },
  {
   "cell_type": "markdown",
   "id": "06cff4e4-7803-4769-a45b-37bb9718fbb2",
   "metadata": {},
   "source": [
    "## 1\n",
    "\n",
    "Create a spark data frame that contains your favorite programming languages.\n",
    "\n",
    "- The name of the column should be language\n",
    "- View the schema of the dataframe\n",
    "- Output the shape of the dataframe\n",
    "- Show the first 5 records in the dataframe"
   ]
  },
  {
   "cell_type": "code",
   "execution_count": 11,
   "id": "cfc26970-1044-4fd7-93a9-80d3569732f6",
   "metadata": {},
   "outputs": [
    {
     "name": "stdout",
     "output_type": "stream",
     "text": [
      "root\n",
      " |-- language: string (nullable = true)\n",
      "\n"
     ]
    }
   ],
   "source": [
    "# create dataframe and view schema\n",
    "df = spark.createDataFrame(pd.DataFrame(['Python', 'C++', 'C#', 'BF', 'TheOneWithTheCode'], columns = ['language']))\n",
    "df.printSchema()"
   ]
  },
  {
   "cell_type": "code",
   "execution_count": 12,
   "id": "9163a09c-c4bf-4d66-a831-d7bcfe6b678d",
   "metadata": {},
   "outputs": [
    {
     "name": "stdout",
     "output_type": "stream",
     "text": [
      "(5, 1)\n"
     ]
    }
   ],
   "source": [
    "# print shape of the dataframe\n",
    "print((df.count(), len(df.columns)))"
   ]
  },
  {
   "cell_type": "code",
   "execution_count": 13,
   "id": "f4890f11-7133-4ae1-9e6d-2e3c5238f2ae",
   "metadata": {},
   "outputs": [
    {
     "name": "stdout",
     "output_type": "stream",
     "text": [
      "+-----------------+\n",
      "|         language|\n",
      "+-----------------+\n",
      "|           Python|\n",
      "|              C++|\n",
      "|               C#|\n",
      "|               BF|\n",
      "|TheOneWithTheCode|\n",
      "+-----------------+\n",
      "\n"
     ]
    }
   ],
   "source": [
    "df.show(5)"
   ]
  },
  {
   "cell_type": "markdown",
   "id": "f0169997-4d85-4622-8ac9-9d775976dcb2",
   "metadata": {},
   "source": [
    "## 2\n",
    "\n",
    "Load the mpg dataset as a spark dataframe.\n",
    "\n",
    "- Create 1 column of output that contains a message like the one below:\n",
    "\n",
    "        The 1999 audi a4 has a 4 cylinder engine.\n",
    "\n",
    "    For each vehicle.\n",
    "\n",
    "- Transform the trans column so that it only contains either manual or auto."
   ]
  },
  {
   "cell_type": "code",
   "execution_count": 18,
   "id": "b9e71d43-565a-41ed-8b44-47a3b9259f2a",
   "metadata": {},
   "outputs": [
    {
     "name": "stdout",
     "output_type": "stream",
     "text": [
      "+------------+-----+-----+----+---+----------+---+---+---+---+-------+\n",
      "|manufacturer|model|displ|year|cyl|     trans|drv|cty|hwy| fl|  class|\n",
      "+------------+-----+-----+----+---+----------+---+---+---+---+-------+\n",
      "|        audi|   a4|  1.8|1999|  4|  auto(l5)|  f| 18| 29|  p|compact|\n",
      "|        audi|   a4|  1.8|1999|  4|manual(m5)|  f| 21| 29|  p|compact|\n",
      "|        audi|   a4|  2.0|2008|  4|manual(m6)|  f| 20| 31|  p|compact|\n",
      "|        audi|   a4|  2.0|2008|  4|  auto(av)|  f| 21| 30|  p|compact|\n",
      "|        audi|   a4|  2.8|1999|  6|  auto(l5)|  f| 16| 26|  p|compact|\n",
      "+------------+-----+-----+----+---+----------+---+---+---+---+-------+\n",
      "only showing top 5 rows\n",
      "\n"
     ]
    }
   ],
   "source": [
    "mpg = spark.createDataFrame(data('mpg'))\n",
    "mpg.show(5)"
   ]
  },
  {
   "cell_type": "code",
   "execution_count": 24,
   "id": "c3a65bd4-3991-46c1-ae65-fee4f375dcb2",
   "metadata": {},
   "outputs": [
    {
     "name": "stdout",
     "output_type": "stream",
     "text": [
      "+--------------------------------+\n",
      "|Vehicle Description             |\n",
      "+--------------------------------+\n",
      "|The 1999 audi a4 has a 4 engine.|\n",
      "|The 1999 audi a4 has a 4 engine.|\n",
      "|The 2008 audi a4 has a 4 engine.|\n",
      "|The 2008 audi a4 has a 4 engine.|\n",
      "|The 1999 audi a4 has a 6 engine.|\n",
      "+--------------------------------+\n",
      "only showing top 5 rows\n",
      "\n"
     ]
    }
   ],
   "source": [
    "mpg.select(\n",
    "    F.concat(\n",
    "        F.lit('The '),\n",
    "        mpg.year,\n",
    "        F.lit(' '),\n",
    "        mpg.manufacturer,\n",
    "        F.lit(' '),\n",
    "        mpg.model,\n",
    "        F.lit(' has a '),\n",
    "        mpg.cyl,\n",
    "        F.lit(' engine.')\n",
    "    ).alias('Vehicle Description')\n",
    ").show(5, truncate = False)"
   ]
  },
  {
   "cell_type": "code",
   "execution_count": 26,
   "id": "2bdd4c34-abee-4148-a6f4-a0add8bf6c13",
   "metadata": {},
   "outputs": [
    {
     "name": "stdout",
     "output_type": "stream",
     "text": [
      "+-----------------------------------+\n",
      "|regexp_replace(trans, \\(\\w+\\), , 1)|\n",
      "+-----------------------------------+\n",
      "|                               auto|\n",
      "|                             manual|\n",
      "|                             manual|\n",
      "|                               auto|\n",
      "|                               auto|\n",
      "+-----------------------------------+\n",
      "only showing top 5 rows\n",
      "\n"
     ]
    }
   ],
   "source": [
    "mpg.select(F.regexp_replace('trans', r'\\(\\w+\\)', '')).show(5)"
   ]
  },
  {
   "cell_type": "markdown",
   "id": "56392bbc-89b9-44cf-ac2c-4598a7d29dc7",
   "metadata": {},
   "source": [
    "## 3\n",
    "\n",
    "Load the tips dataset as a spark dataframe.\n",
    "\n",
    "- What percentage of observations are smokers?\n",
    "- Create a column that contains the tip percentage\n",
    "- Calculate the average tip percentage for each combination of sex and smoker."
   ]
  },
  {
   "cell_type": "code",
   "execution_count": null,
   "id": "f175d3d3-08bd-4eb5-83d3-143f8aaa5d6e",
   "metadata": {},
   "outputs": [],
   "source": []
  }
 ],
 "metadata": {
  "kernelspec": {
   "display_name": "Python 3 (ipykernel)",
   "language": "python",
   "name": "python3"
  },
  "language_info": {
   "codemirror_mode": {
    "name": "ipython",
    "version": 3
   },
   "file_extension": ".py",
   "mimetype": "text/x-python",
   "name": "python",
   "nbconvert_exporter": "python",
   "pygments_lexer": "ipython3",
   "version": "3.9.7"
  }
 },
 "nbformat": 4,
 "nbformat_minor": 5
}
