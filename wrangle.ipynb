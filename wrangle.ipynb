{
 "cells": [
  {
   "cell_type": "code",
   "execution_count": 1,
   "id": "63dfdfb3-b815-4117-a20e-8783a84743e9",
   "metadata": {},
   "outputs": [
    {
     "name": "stderr",
     "output_type": "stream",
     "text": [
      "WARNING: An illegal reflective access operation has occurred\n",
      "WARNING: Illegal reflective access by org.apache.spark.unsafe.Platform (file:/usr/local/anaconda3/lib/python3.9/site-packages/pyspark/jars/spark-unsafe_2.12-3.2.1.jar) to constructor java.nio.DirectByteBuffer(long,int)\n",
      "WARNING: Please consider reporting this to the maintainers of org.apache.spark.unsafe.Platform\n",
      "WARNING: Use --illegal-access=warn to enable warnings of further illegal reflective access operations\n",
      "WARNING: All illegal access operations will be denied in a future release\n",
      "Using Spark's default log4j profile: org/apache/spark/log4j-defaults.properties\n",
      "Setting default log level to \"WARN\".\n",
      "To adjust logging level use sc.setLogLevel(newLevel). For SparkR, use setLogLevel(newLevel).\n",
      "22/05/20 13:41:20 WARN NativeCodeLoader: Unable to load native-hadoop library for your platform... using builtin-java classes where applicable\n"
     ]
    }
   ],
   "source": [
    "import pyspark\n",
    "import pyspark.sql.functions as F\n",
    "\n",
    "spark = pyspark.sql.SparkSession.builder.getOrCreate()"
   ]
  },
  {
   "cell_type": "markdown",
   "id": "12ecb36e-8c81-41a8-94a7-bf0d6878c373",
   "metadata": {},
   "source": [
    "# Data Wrangling Exercises\n",
    "\n",
    "## Part 1\n",
    "\n",
    "### 1\n",
    "\n",
    "Read the case, department, and source data into their own spark dataframes."
   ]
  },
  {
   "cell_type": "code",
   "execution_count": 2,
   "id": "e8ec3c79-21aa-48d3-af7e-66aabd5eb29b",
   "metadata": {},
   "outputs": [
    {
     "name": "stderr",
     "output_type": "stream",
     "text": [
      "                                                                                \r"
     ]
    }
   ],
   "source": [
    "# Read all three .csv files into dataframes\n",
    "\n",
    "case = spark.read.csv(\"case.csv\", sep=\",\", header=True, inferSchema=True)\n",
    "department = spark.read.csv(\"dept.csv\", sep=\",\", header=True, inferSchema=True)\n",
    "source = spark.read.csv(\"source.csv\", sep=\",\", header=True, inferSchema=True)"
   ]
  },
  {
   "cell_type": "markdown",
   "id": "50cc108e-31f5-4016-8eca-a1ccacca4eca",
   "metadata": {},
   "source": [
    "### 2\n",
    "\n",
    "Let's see how writing to the local disk works in spark:\n",
    "\n",
    "- Write the code necessary to store the source data in both csv and json format, store these as sources_csv and sources_json\n",
    "- Inspect your folder structure. What do you notice?"
   ]
  },
  {
   "cell_type": "code",
   "execution_count": 3,
   "id": "7cce3437-47a2-4861-a145-545f4a906e58",
   "metadata": {},
   "outputs": [],
   "source": [
    "# Write the source dataframe into json and csv formats\n",
    "\n",
    "source.write.json('source_json', mode = 'overwrite')\n",
    "source.write.csv('source_csv', mode = 'overwrite')"
   ]
  },
  {
   "cell_type": "markdown",
   "id": "43179d75-d575-4c9d-b9b3-acdf3cdf10ea",
   "metadata": {},
   "source": [
    "The files are stored in partitions inside a directory by the name given to the write methods. There is also a _SUCCESS file.\n",
    "\n",
    "### 3\n",
    "\n",
    "Inspect the data in your dataframes. Are the data types appropriate? Write the code necessary to cast the values to the appropriate types."
   ]
  },
  {
   "cell_type": "code",
   "execution_count": 4,
   "id": "0ecfa3fc-4057-4cc5-9252-5853f5c1e0b5",
   "metadata": {},
   "outputs": [
    {
     "name": "stdout",
     "output_type": "stream",
     "text": [
      "root\n",
      " |-- case_id: integer (nullable = true)\n",
      " |-- case_opened_date: string (nullable = true)\n",
      " |-- case_closed_date: string (nullable = true)\n",
      " |-- SLA_due_date: string (nullable = true)\n",
      " |-- case_late: string (nullable = true)\n",
      " |-- num_days_late: double (nullable = true)\n",
      " |-- case_closed: string (nullable = true)\n",
      " |-- dept_division: string (nullable = true)\n",
      " |-- service_request_type: string (nullable = true)\n",
      " |-- SLA_days: double (nullable = true)\n",
      " |-- case_status: string (nullable = true)\n",
      " |-- source_id: string (nullable = true)\n",
      " |-- request_address: string (nullable = true)\n",
      " |-- council_district: integer (nullable = true)\n",
      "\n"
     ]
    }
   ],
   "source": [
    "# Let's see the case dataframe\n",
    "\n",
    "case.printSchema()"
   ]
  },
  {
   "cell_type": "code",
   "execution_count": 5,
   "id": "33f5e64d-528e-472b-9c77-ba54838d0c0c",
   "metadata": {},
   "outputs": [
    {
     "name": "stdout",
     "output_type": "stream",
     "text": [
      "-RECORD 0----------------------------------------------------\n",
      " case_id              | 1014127332                           \n",
      " case_opened_date     | 1/1/18 0:42                          \n",
      " case_closed_date     | 1/1/18 12:29                         \n",
      " SLA_due_date         | 9/26/20 0:42                         \n",
      " case_late            | NO                                   \n",
      " num_days_late        | -998.5087616000001                   \n",
      " case_closed          | YES                                  \n",
      " dept_division        | Field Operations                     \n",
      " service_request_type | Stray Animal                         \n",
      " SLA_days             | 999.0                                \n",
      " case_status          | Closed                               \n",
      " source_id            | svcCRMLS                             \n",
      " request_address      | 2315  EL PASO ST, San Antonio, 78207 \n",
      " council_district     | 5                                    \n",
      "only showing top 1 row\n",
      "\n"
     ]
    }
   ],
   "source": [
    "case.show(1, vertical = True, truncate = False)"
   ]
  },
  {
   "cell_type": "markdown",
   "id": "65b3e97b-620a-4bbc-a1c3-ca2420006ed3",
   "metadata": {},
   "source": [
    "The case_opened_date, case_closed_date, and SLA_due_date columns should be datetime types. The case_late and case_closed columns can be cast to boolean types."
   ]
  },
  {
   "cell_type": "code",
   "execution_count": 6,
   "id": "d28d01c5-8ea8-4891-b22a-7b4891dce075",
   "metadata": {},
   "outputs": [],
   "source": [
    "fmt = \"M/d/yy H:mm\"\n",
    "case = (\n",
    "    case.withColumn(\"case_opened_date\", F.to_timestamp(\"case_opened_date\", fmt))\n",
    "    .withColumn(\"case_closed_date\", F.to_timestamp(\"case_closed_date\", fmt))\n",
    "    .withColumn(\"SLA_due_date\", F.to_timestamp(\"SLA_due_date\", fmt))\n",
    ")\n",
    "\n",
    "case = (\n",
    "    case.withColumn(\"case_closed\", F.expr('case_closed == \"YES\"'))\n",
    "    .withColumn(\"case_late\", F.expr('case_late == \"YES\"'))\n",
    ")"
   ]
  },
  {
   "cell_type": "code",
   "execution_count": 7,
   "id": "9f6406b1-ae54-4e96-abca-798d6a3c5553",
   "metadata": {},
   "outputs": [
    {
     "name": "stdout",
     "output_type": "stream",
     "text": [
      "root\n",
      " |-- dept_division: string (nullable = true)\n",
      " |-- dept_name: string (nullable = true)\n",
      " |-- standardized_dept_name: string (nullable = true)\n",
      " |-- dept_subject_to_SLA: string (nullable = true)\n",
      "\n"
     ]
    }
   ],
   "source": [
    "# Let's see the department dataframe\n",
    "\n",
    "department.printSchema()"
   ]
  },
  {
   "cell_type": "code",
   "execution_count": 8,
   "id": "d6fbf1eb-ff5a-4fc0-a4fe-76b7531fdc5f",
   "metadata": {},
   "outputs": [
    {
     "name": "stdout",
     "output_type": "stream",
     "text": [
      "-RECORD 0----------------------------------\n",
      " dept_division          | 311 Call Center  \n",
      " dept_name              | Customer Service \n",
      " standardized_dept_name | Customer Service \n",
      " dept_subject_to_SLA    | YES              \n",
      "only showing top 1 row\n",
      "\n"
     ]
    }
   ],
   "source": [
    "department.show(1, vertical = True, truncate = False)"
   ]
  },
  {
   "cell_type": "code",
   "execution_count": 9,
   "id": "380dadb0-02f4-407e-a0bc-82d5fd3b78d0",
   "metadata": {},
   "outputs": [
    {
     "name": "stderr",
     "output_type": "stream",
     "text": [
      "[Stage 12:>                                                         (0 + 1) / 1]\r"
     ]
    },
    {
     "name": "stdout",
     "output_type": "stream",
     "text": [
      "+-------------------+\n",
      "|dept_subject_to_SLA|\n",
      "+-------------------+\n",
      "|                YES|\n",
      "|                 NO|\n",
      "+-------------------+\n",
      "\n"
     ]
    },
    {
     "name": "stderr",
     "output_type": "stream",
     "text": [
      "                                                                                \r"
     ]
    }
   ],
   "source": [
    "department.select('dept_subject_to_SLA').distinct().show()"
   ]
  },
  {
   "cell_type": "markdown",
   "id": "c40a1cde-349a-4a86-929d-9515fe38b308",
   "metadata": {},
   "source": [
    "The dept_subject_to_SLA column can be a boolean type."
   ]
  },
  {
   "cell_type": "code",
   "execution_count": 10,
   "id": "62bc9d65-a105-40e7-9611-dc795bc5be99",
   "metadata": {},
   "outputs": [],
   "source": [
    "department = department.withColumn('dept_subject_to_SLA', F.expr('dept_subject_to_SLA == \"YES\"'))"
   ]
  },
  {
   "cell_type": "code",
   "execution_count": 11,
   "id": "d346aa6e-b702-46a1-b2b9-8eadc0bec8ab",
   "metadata": {},
   "outputs": [
    {
     "name": "stdout",
     "output_type": "stream",
     "text": [
      "root\n",
      " |-- source_id: string (nullable = true)\n",
      " |-- source_username: string (nullable = true)\n",
      "\n"
     ]
    }
   ],
   "source": [
    "# Finally let's see the source dataframe\n",
    "\n",
    "source.printSchema()"
   ]
  },
  {
   "cell_type": "code",
   "execution_count": 12,
   "id": "12c5c46b-f56d-4d1a-801c-1c4aed62c808",
   "metadata": {},
   "outputs": [
    {
     "name": "stdout",
     "output_type": "stream",
     "text": [
      "-RECORD 0---------------------------\n",
      " source_id       | 100137           \n",
      " source_username | Merlene Blodgett \n",
      "only showing top 1 row\n",
      "\n"
     ]
    }
   ],
   "source": [
    "source.show(1, vertical = True, truncate = False)"
   ]
  },
  {
   "cell_type": "markdown",
   "id": "d2be8bb4-fc58-4378-a61c-0d699f1ad4b9",
   "metadata": {},
   "source": [
    "The source_id column can probably be cast to an int type, but I don't think it is necessary.\n",
    "\n",
    "## Part 2\n",
    "\n",
    "### 1\n",
    "\n",
    "How old is the latest (in terms of days past SLA) currently open issue?"
   ]
  },
  {
   "cell_type": "code",
   "execution_count": 13,
   "id": "4e0303b8-5960-4f9f-a055-e484904ea42c",
   "metadata": {},
   "outputs": [],
   "source": [
    "# Let's try this with SQL\n",
    "case.createOrReplaceTempView('case')"
   ]
  },
  {
   "cell_type": "code",
   "execution_count": 14,
   "id": "b56730c6-4c6b-44eb-8c85-30df98b44b47",
   "metadata": {},
   "outputs": [
    {
     "name": "stderr",
     "output_type": "stream",
     "text": [
      "[Stage 14:>                                                         (0 + 4) / 4]\r"
     ]
    },
    {
     "name": "stdout",
     "output_type": "stream",
     "text": [
      "-RECORD 0--------------------\n",
      " num_days_late | 348.6458333 \n",
      "\n"
     ]
    },
    {
     "name": "stderr",
     "output_type": "stream",
     "text": [
      "                                                                                \r"
     ]
    }
   ],
   "source": [
    "spark.sql('''\n",
    "SELECT\n",
    "    num_days_late\n",
    "FROM case\n",
    "WHERE case_closed = false\n",
    "    AND case_late = true\n",
    "ORDER BY num_days_late DESC\n",
    "LIMIT 1;\n",
    "''').show(vertical = True, truncate = False)"
   ]
  },
  {
   "cell_type": "markdown",
   "id": "d9e261ba-f41f-4058-87f5-23ccf928d6f3",
   "metadata": {},
   "source": [
    "How long has the oldest (in terms of days since opened) currently opened issue been open?"
   ]
  },
  {
   "cell_type": "code",
   "execution_count": 59,
   "id": "4005ddd7-163b-45bb-b9cc-f6b0e70eb6f8",
   "metadata": {},
   "outputs": [
    {
     "name": "stderr",
     "output_type": "stream",
     "text": [
      "[Stage 110:==============>                                          (1 + 3) / 4]\r"
     ]
    },
    {
     "name": "stdout",
     "output_type": "stream",
     "text": [
      "-RECORD 0---------\n",
      " days_open | 1965 \n",
      "\n"
     ]
    },
    {
     "name": "stderr",
     "output_type": "stream",
     "text": [
      "                                                                                \r"
     ]
    }
   ],
   "source": [
    "spark.sql('''\n",
    "SELECT\n",
    "    DATEDIFF(NOW(), case_opened_date) AS days_open\n",
    "FROM case\n",
    "WHERE case_closed = false\n",
    "ORDER BY days_open DESC\n",
    "LIMIT 1;\n",
    "''').show(vertical = True)"
   ]
  },
  {
   "cell_type": "markdown",
   "id": "76e7a62f-353a-4b07-8641-8afe1e038a0b",
   "metadata": {},
   "source": [
    "### 2\n",
    "\n",
    "How many Stray Animal cases are there?"
   ]
  },
  {
   "cell_type": "code",
   "execution_count": 17,
   "id": "7812acfa-ddab-4c8e-915f-468de679a456",
   "metadata": {},
   "outputs": [
    {
     "name": "stderr",
     "output_type": "stream",
     "text": [
      "[Stage 21:>                                                         (0 + 4) / 4]\r"
     ]
    },
    {
     "name": "stdout",
     "output_type": "stream",
     "text": [
      "-RECORD 0---------\n",
      " count(1) | 26760 \n",
      "\n"
     ]
    },
    {
     "name": "stderr",
     "output_type": "stream",
     "text": [
      "                                                                                \r"
     ]
    }
   ],
   "source": [
    "spark.sql('''\n",
    "SELECT\n",
    "    COUNT(*)\n",
    "FROM case\n",
    "WHERE service_request_type = 'Stray Animal';\n",
    "''').show(vertical = True)"
   ]
  },
  {
   "cell_type": "markdown",
   "id": "b1c9c705-8d08-45fe-b401-62ad2cad1303",
   "metadata": {},
   "source": [
    "### 3\n",
    "\n",
    "How many service requests that are assigned to the Field Operations department (dept_division) are not classified as \"Officer Standby\" request type (service_request_type)?"
   ]
  },
  {
   "cell_type": "code",
   "execution_count": 20,
   "id": "38c478e8-a517-4567-880f-5f709546c135",
   "metadata": {},
   "outputs": [
    {
     "name": "stderr",
     "output_type": "stream",
     "text": [
      "[Stage 30:==============>                                           (1 + 3) / 4]\r"
     ]
    },
    {
     "name": "stdout",
     "output_type": "stream",
     "text": [
      "-RECORD 0----------\n",
      " count(1) | 113902 \n",
      "\n"
     ]
    },
    {
     "name": "stderr",
     "output_type": "stream",
     "text": [
      "                                                                                \r"
     ]
    }
   ],
   "source": [
    "spark.sql('''\n",
    "SELECT\n",
    "    COUNT(*)\n",
    "FROM case\n",
    "WHERE dept_division = 'Field Operations'\n",
    "    AND service_request_type != 'Officer Standby';\n",
    "''').show(vertical = True)"
   ]
  },
  {
   "cell_type": "markdown",
   "id": "a49a0061-7b20-427f-ba64-296078461f3a",
   "metadata": {},
   "source": [
    "### 4\n",
    "\n",
    "Convert the council_district column to a string column."
   ]
  },
  {
   "cell_type": "code",
   "execution_count": 22,
   "id": "fb3ab1ed-4540-4ea6-9a32-a52579865a2d",
   "metadata": {},
   "outputs": [
    {
     "name": "stdout",
     "output_type": "stream",
     "text": [
      "root\n",
      " |-- case_id: integer (nullable = true)\n",
      " |-- case_opened_date: timestamp (nullable = true)\n",
      " |-- case_closed_date: timestamp (nullable = true)\n",
      " |-- SLA_due_date: timestamp (nullable = true)\n",
      " |-- case_late: boolean (nullable = true)\n",
      " |-- num_days_late: double (nullable = true)\n",
      " |-- case_closed: boolean (nullable = true)\n",
      " |-- dept_division: string (nullable = true)\n",
      " |-- service_request_type: string (nullable = true)\n",
      " |-- SLA_days: double (nullable = true)\n",
      " |-- case_status: string (nullable = true)\n",
      " |-- source_id: string (nullable = true)\n",
      " |-- request_address: string (nullable = true)\n",
      " |-- council_district: string (nullable = true)\n",
      "\n"
     ]
    }
   ],
   "source": [
    "case = case.withColumn('council_district', F.col('council_district').cast('string'))\n",
    "case.printSchema()"
   ]
  },
  {
   "cell_type": "markdown",
   "id": "a57700d3-53cf-4748-9de1-2a8d1024061c",
   "metadata": {},
   "source": [
    "### 5\n",
    "\n",
    "Extract the year from the case_closed_date column."
   ]
  },
  {
   "cell_type": "code",
   "execution_count": 24,
   "id": "091f0924-8241-45cb-bc98-1f699c55f43e",
   "metadata": {},
   "outputs": [
    {
     "name": "stdout",
     "output_type": "stream",
     "text": [
      "+----------------------+\n",
      "|year(case_closed_date)|\n",
      "+----------------------+\n",
      "|                  2018|\n",
      "|                  2018|\n",
      "|                  2018|\n",
      "|                  2018|\n",
      "|                  2018|\n",
      "+----------------------+\n",
      "only showing top 5 rows\n",
      "\n"
     ]
    }
   ],
   "source": [
    "case.select(F.year('case_closed_date')).show(5)"
   ]
  },
  {
   "cell_type": "markdown",
   "id": "835a4697-55eb-465e-a73c-0f8b0fe86df6",
   "metadata": {},
   "source": [
    "### 6\n",
    "\n",
    "Convert num_days_late from days to hours in new columns num_hours_late."
   ]
  },
  {
   "cell_type": "code",
   "execution_count": 25,
   "id": "d6f9980f-4a37-494e-8eb6-63e366f93e5a",
   "metadata": {},
   "outputs": [
    {
     "name": "stdout",
     "output_type": "stream",
     "text": [
      "-RECORD 0------------------------------------\n",
      " case_id              | 1014127332           \n",
      " case_opened_date     | 2018-01-01 00:42:00  \n",
      " case_closed_date     | 2018-01-01 12:29:00  \n",
      " SLA_due_date         | 2020-09-26 00:42:00  \n",
      " case_late            | false                \n",
      " num_days_late        | -998.5087616000001   \n",
      " case_closed          | true                 \n",
      " dept_division        | Field Operations     \n",
      " service_request_type | Stray Animal         \n",
      " SLA_days             | 999.0                \n",
      " case_status          | Closed               \n",
      " source_id            | svcCRMLS             \n",
      " request_address      | 2315  EL PASO ST,... \n",
      " council_district     | 5                    \n",
      " num_hours_late       | -23964.2102784       \n",
      "only showing top 1 row\n",
      "\n"
     ]
    }
   ],
   "source": [
    "case = case.withColumn('num_hours_late', F.expr('num_days_late * 24'))\n",
    "case.show(1, vertical = True)"
   ]
  },
  {
   "cell_type": "code",
   "execution_count": 26,
   "id": "62b79858-36a8-4d94-b268-921edadd0659",
   "metadata": {},
   "outputs": [
    {
     "name": "stdout",
     "output_type": "stream",
     "text": [
      "+-------------------+-------------------+\n",
      "|      num_days_late|     num_hours_late|\n",
      "+-------------------+-------------------+\n",
      "| -998.5087616000001|     -23964.2102784|\n",
      "|-2.0126041669999997|-48.302500007999996|\n",
      "|       -3.022337963|      -72.536111112|\n",
      "|       -15.01148148|      -360.27555552|\n",
      "|0.37216435200000003|  8.931944448000001|\n",
      "+-------------------+-------------------+\n",
      "only showing top 5 rows\n",
      "\n"
     ]
    }
   ],
   "source": [
    "case.select('num_days_late', 'num_hours_late').show(5)"
   ]
  },
  {
   "cell_type": "markdown",
   "id": "7ae62df8-d2df-49f1-a181-519efed9efdc",
   "metadata": {},
   "source": [
    "### 7\n",
    "\n",
    "Join the case data with the source and department data."
   ]
  },
  {
   "cell_type": "code",
   "execution_count": 27,
   "id": "ff5eab53-20fb-4da6-975f-a2a42973ce26",
   "metadata": {},
   "outputs": [
    {
     "name": "stdout",
     "output_type": "stream",
     "text": [
      "root\n",
      " |-- case_id: integer (nullable = true)\n",
      " |-- case_opened_date: timestamp (nullable = true)\n",
      " |-- case_closed_date: timestamp (nullable = true)\n",
      " |-- SLA_due_date: timestamp (nullable = true)\n",
      " |-- case_late: boolean (nullable = true)\n",
      " |-- num_days_late: double (nullable = true)\n",
      " |-- case_closed: boolean (nullable = true)\n",
      " |-- dept_division: string (nullable = true)\n",
      " |-- service_request_type: string (nullable = true)\n",
      " |-- SLA_days: double (nullable = true)\n",
      " |-- case_status: string (nullable = true)\n",
      " |-- source_id: string (nullable = true)\n",
      " |-- request_address: string (nullable = true)\n",
      " |-- council_district: string (nullable = true)\n",
      " |-- num_hours_late: double (nullable = true)\n",
      "\n"
     ]
    }
   ],
   "source": [
    "# Let's first see the schema for each dataframe so we can know how to join them all\n",
    "\n",
    "case.printSchema()"
   ]
  },
  {
   "cell_type": "code",
   "execution_count": 28,
   "id": "eb8605a3-dddc-45c3-97d0-593e2a9b8856",
   "metadata": {},
   "outputs": [
    {
     "name": "stdout",
     "output_type": "stream",
     "text": [
      "root\n",
      " |-- dept_division: string (nullable = true)\n",
      " |-- dept_name: string (nullable = true)\n",
      " |-- standardized_dept_name: string (nullable = true)\n",
      " |-- dept_subject_to_SLA: boolean (nullable = true)\n",
      "\n"
     ]
    }
   ],
   "source": [
    "department.printSchema()"
   ]
  },
  {
   "cell_type": "code",
   "execution_count": 29,
   "id": "8d989303-1d1f-4ed3-beee-c0009e84bff9",
   "metadata": {},
   "outputs": [
    {
     "name": "stdout",
     "output_type": "stream",
     "text": [
      "root\n",
      " |-- source_id: string (nullable = true)\n",
      " |-- source_username: string (nullable = true)\n",
      "\n"
     ]
    }
   ],
   "source": [
    "source.printSchema()"
   ]
  },
  {
   "cell_type": "markdown",
   "id": "466178ff-980a-407e-bace-907877cf460c",
   "metadata": {},
   "source": [
    "The department dataframe can be joined on dept_division and the source dataframe can be joined on source_id."
   ]
  },
  {
   "cell_type": "code",
   "execution_count": 33,
   "id": "23ab6014-8c73-4ebf-8ea7-88e920491e90",
   "metadata": {},
   "outputs": [
    {
     "name": "stdout",
     "output_type": "stream",
     "text": [
      "root\n",
      " |-- source_id: string (nullable = true)\n",
      " |-- dept_division: string (nullable = true)\n",
      " |-- case_id: integer (nullable = true)\n",
      " |-- case_opened_date: timestamp (nullable = true)\n",
      " |-- case_closed_date: timestamp (nullable = true)\n",
      " |-- SLA_due_date: timestamp (nullable = true)\n",
      " |-- case_late: boolean (nullable = true)\n",
      " |-- num_days_late: double (nullable = true)\n",
      " |-- case_closed: boolean (nullable = true)\n",
      " |-- service_request_type: string (nullable = true)\n",
      " |-- SLA_days: double (nullable = true)\n",
      " |-- case_status: string (nullable = true)\n",
      " |-- request_address: string (nullable = true)\n",
      " |-- council_district: string (nullable = true)\n",
      " |-- num_hours_late: double (nullable = true)\n",
      " |-- dept_name: string (nullable = true)\n",
      " |-- standardized_dept_name: string (nullable = true)\n",
      " |-- dept_subject_to_SLA: boolean (nullable = true)\n",
      " |-- source_username: string (nullable = true)\n",
      "\n"
     ]
    }
   ],
   "source": [
    "df = (\n",
    "    case.join(department, 'dept_division')\n",
    "    .join(source, 'source_id')\n",
    "    .drop(department.dept_division)\n",
    "    .drop(source.source_id)\n",
    ")\n",
    "df.printSchema()"
   ]
  },
  {
   "cell_type": "markdown",
   "id": "7ff0bebc-8dde-4482-8be4-a1ace45d696c",
   "metadata": {},
   "source": [
    "### 8\n",
    "\n",
    "Are there any cases that do not have a request source?"
   ]
  },
  {
   "cell_type": "code",
   "execution_count": 46,
   "id": "a0d4233c-fec1-418c-bf41-4ba65b5cbe44",
   "metadata": {},
   "outputs": [
    {
     "data": {
      "text/plain": [
       "0"
      ]
     },
     "execution_count": 46,
     "metadata": {},
     "output_type": "execute_result"
    }
   ],
   "source": [
    "# I think this is how to get the answer\n",
    "df.where(df.source_username.isNull()).count()"
   ]
  },
  {
   "cell_type": "markdown",
   "id": "58d8dcc4-b2f0-4e94-aa50-2441cd4446ea",
   "metadata": {},
   "source": [
    "### 9\n",
    "\n",
    "What are the top 10 service request types in terms of number of requests?"
   ]
  },
  {
   "cell_type": "code",
   "execution_count": 52,
   "id": "b7ba8891-3a55-4058-b1bf-9ac9c9655a7b",
   "metadata": {},
   "outputs": [
    {
     "name": "stderr",
     "output_type": "stream",
     "text": [
      "[Stage 87:>                                                         (0 + 4) / 4]\r"
     ]
    },
    {
     "name": "stdout",
     "output_type": "stream",
     "text": [
      "+--------------------+------------------+\n",
      "|service_request_type|number_of_requests|\n",
      "+--------------------+------------------+\n",
      "|           No Pickup|             86855|\n",
      "|Overgrown Yard/Trash|             65895|\n",
      "|        Bandit Signs|             32910|\n",
      "|        Damaged Cart|             30338|\n",
      "|Front Or Side Yar...|             28794|\n",
      "|        Stray Animal|             26760|\n",
      "|Aggressive Animal...|             24882|\n",
      "|Cart Exchange Req...|             22024|\n",
      "|Junk Vehicle On P...|             21473|\n",
      "|     Pot Hole Repair|             20616|\n",
      "+--------------------+------------------+\n",
      "\n"
     ]
    },
    {
     "name": "stderr",
     "output_type": "stream",
     "text": [
      "                                                                                \r"
     ]
    }
   ],
   "source": [
    "spark.sql('''\n",
    "SELECT\n",
    "    service_request_type,\n",
    "    COUNT(*) AS number_of_requests\n",
    "FROM case\n",
    "GROUP BY service_request_type\n",
    "ORDER BY number_of_requests DESC\n",
    "LIMIT 10;\n",
    "''').show()"
   ]
  },
  {
   "cell_type": "markdown",
   "id": "b9372fed-858f-4981-b83f-141cfb7d55cd",
   "metadata": {},
   "source": [
    "### 10\n",
    "\n",
    "What are the top 10 service request types in terms of average days late?"
   ]
  },
  {
   "cell_type": "code",
   "execution_count": 53,
   "id": "f5514626-905f-4b8a-96af-5cee7417b87b",
   "metadata": {},
   "outputs": [
    {
     "name": "stderr",
     "output_type": "stream",
     "text": [
      "[Stage 90:=============================>                            (2 + 2) / 4]\r"
     ]
    },
    {
     "name": "stdout",
     "output_type": "stream",
     "text": [
      "+--------------------+------------------+\n",
      "|service_request_type|     avg_days_late|\n",
      "+--------------------+------------------+\n",
      "|  Zoning: Junk Yards| 175.9563621042095|\n",
      "|Labeling for Used...|162.43032902285717|\n",
      "|Record Keeping of...|153.99724039428568|\n",
      "|Signage Requied f...|151.63868055333333|\n",
      "|Storage of Used M...|     142.112556415|\n",
      "|Zoning: Recycle Yard|135.92851612479797|\n",
      "|Donation Containe...|131.75610506358706|\n",
      "|License Requied U...|128.79828704142858|\n",
      "|Traffic Signal Gr...| 77.90021217000002|\n",
      "|           Complaint| 72.51790932659713|\n",
      "+--------------------+------------------+\n",
      "\n"
     ]
    },
    {
     "name": "stderr",
     "output_type": "stream",
     "text": [
      "                                                                                \r"
     ]
    }
   ],
   "source": [
    "spark.sql('''\n",
    "SELECT\n",
    "    service_request_type,\n",
    "    AVG(num_days_late) AS avg_days_late\n",
    "FROM case\n",
    "GROUP BY service_request_type\n",
    "ORDER BY avg_days_late DESC\n",
    "LIMIT 10;\n",
    "''').show()"
   ]
  },
  {
   "cell_type": "markdown",
   "id": "b1ec66cd-83a7-499a-8ecb-248ce39ca0f8",
   "metadata": {},
   "source": [
    "### 11\n",
    "\n",
    "Does number of days late depend on department?"
   ]
  },
  {
   "cell_type": "code",
   "execution_count": 63,
   "id": "1fe5bc14-94c7-4cad-b11e-641ed66c2337",
   "metadata": {},
   "outputs": [
    {
     "name": "stderr",
     "output_type": "stream",
     "text": [
      "[Stage 127:==============>                                          (1 + 3) / 4]\r"
     ]
    },
    {
     "name": "stdout",
     "output_type": "stream",
     "text": [
      "+--------------------+-------------------+\n",
      "|           dept_name|      avg_days_late|\n",
      "+--------------------+-------------------+\n",
      "|                null| 135.92851612479797|\n",
      "|    Customer Service| 59.737091496300785|\n",
      "|Development Services|  13.43372455586971|\n",
      "|Solid Waste Manag...|-2.2000575136721747|\n",
      "|        Metro Health| -4.911766979607002|\n",
      "|Parks and Recreation| -5.251521960055133|\n",
      "|Trans & Cap Impro...|-20.612837354052626|\n",
      "|Code Enforcement ...|-38.701330683295375|\n",
      "|Animal Care Services|-226.51783940550382|\n",
      "|        City Council|               null|\n",
      "+--------------------+-------------------+\n",
      "\n"
     ]
    },
    {
     "name": "stderr",
     "output_type": "stream",
     "text": [
      "                                                                                \r"
     ]
    }
   ],
   "source": [
    "(\n",
    "    df.groupBy('dept_name')\n",
    "    .agg(F.mean('num_days_late').alias('avg_days_late'))\n",
    "    .sort('avg_days_late', ascending = False)\n",
    "    .show()\n",
    ")"
   ]
  },
  {
   "cell_type": "markdown",
   "id": "eddd0f37-0e23-4ff3-96a4-d9298fc58a4b",
   "metadata": {},
   "source": [
    "It seems like days late does depend on department. Some departments are on average late and others are on average early.\n",
    "\n",
    "### 12\n",
    "\n",
    "How do number of days late depend on department and request type?"
   ]
  },
  {
   "cell_type": "code",
   "execution_count": 64,
   "id": "cd45f59a-1cd3-4fc0-9308-375c487e2805",
   "metadata": {},
   "outputs": [
    {
     "name": "stderr",
     "output_type": "stream",
     "text": [
      "[Stage 132:============================>                            (2 + 2) / 4]\r"
     ]
    },
    {
     "name": "stdout",
     "output_type": "stream",
     "text": [
      "+--------------------+--------------------+------------------+\n",
      "|           dept_name|service_request_type|     avg_days_late|\n",
      "+--------------------+--------------------+------------------+\n",
      "|Code Enforcement ...|  Zoning: Junk Yards| 175.9563621042095|\n",
      "|Code Enforcement ...|Labeling for Used...|162.43032902285717|\n",
      "|Code Enforcement ...|Record Keeping of...|153.99724039428568|\n",
      "|Code Enforcement ...|Signage Requied f...|151.63868055333333|\n",
      "|Code Enforcement ...|Storage of Used M...|     142.112556415|\n",
      "|                null|Zoning: Recycle Yard|135.92851612479797|\n",
      "|Code Enforcement ...|Donation Containe...|131.75610506358706|\n",
      "|Code Enforcement ...|License Requied U...|128.79828704142858|\n",
      "|Trans & Cap Impro...|Traffic Signal Gr...|101.79846062200002|\n",
      "|    Customer Service|           Complaint| 72.87050230311695|\n",
      "|Code Enforcement ...|             Vendors|   66.548098985078|\n",
      "|Parks and Recreation|Reservation Assis...|       66.03116319|\n",
      "|Code Enforcement ...|   No Address Posted|59.875640733625936|\n",
      "|Code Enforcement ...|         Curbstoning|59.808628977605274|\n",
      "|Solid Waste Manag...|Contracted Servic...|    56.72045236025|\n",
      "|Trans & Cap Impro...|Status: On-Going ...|37.570646702950086|\n",
      "|Code Enforcement ...|Historical Buildi...|31.567148565454545|\n",
      "|Code Enforcement ...|Used Mattress Ins...|30.168053900795922|\n",
      "|Solid Waste Manag...| Service Information|29.177355749054875|\n",
      "|Parks and Recreation|Park Building Mai...|24.322320840895838|\n",
      "+--------------------+--------------------+------------------+\n",
      "only showing top 20 rows\n",
      "\n"
     ]
    },
    {
     "name": "stderr",
     "output_type": "stream",
     "text": [
      "                                                                                \r"
     ]
    }
   ],
   "source": [
    "(\n",
    "    df.groupBy('dept_name', 'service_request_type')\n",
    "    .agg(F.mean('num_days_late').alias('avg_days_late'))\n",
    "    .sort('avg_days_late', ascending = False)\n",
    "    .show()\n",
    ")"
   ]
  }
 ],
 "metadata": {
  "kernelspec": {
   "display_name": "Python 3 (ipykernel)",
   "language": "python",
   "name": "python3"
  },
  "language_info": {
   "codemirror_mode": {
    "name": "ipython",
    "version": 3
   },
   "file_extension": ".py",
   "mimetype": "text/x-python",
   "name": "python",
   "nbconvert_exporter": "python",
   "pygments_lexer": "ipython3",
   "version": "3.9.7"
  }
 },
 "nbformat": 4,
 "nbformat_minor": 5
}
